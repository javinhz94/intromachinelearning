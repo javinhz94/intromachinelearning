{
  "cells": [
    {
      "cell_type": "markdown",
      "metadata": {
        "id": "dVJ7lHDq2c5r"
      },
      "source": [
        "# Parcial de Regresión Lineal\n",
        "\n",
        "\n",
        "## Preguntas de Negocio\n",
        "1. **Predicción:** Si llega un carro con 92670.5 km, ¿a cuánto debería venderlo según el modelo?\n",
        "2. **Inversión:** Como inversionista, ¿cuáles son los vehículos (según su kilometraje) que podrían generar un margen de ganancia atractivo?\n"
      ]
    },
    {
      "cell_type": "code",
      "execution_count": 24,
      "metadata": {
        "id": "k07tDAto2c5t"
      },
      "outputs": [],
      "source": [
        "# Importar librerías necesarias\n",
        "import pandas as pd\n",
        "import numpy as np\n",
        "\n",
        "from sklearn.model_selection import train_test_split\n",
        "from sklearn.linear_model import LinearRegression\n",
        "from sklearn.metrics import mean_squared_error, mean_absolute_error, r2_score\n",
        "\n",
        "%matplotlib inline"
      ]
    },
    {
      "cell_type": "markdown",
      "metadata": {
        "id": "DSGz8xe32c5u"
      },
      "source": [
        "## 1. Cargar y Preprocesar Datos\n",
        "\n",
        "Se descarga el dataset de vehículos, se descomprime y se carga en un DataFrame. Además, se eliminan los valores faltantes."
      ]
    },
    {
      "cell_type": "code",
      "source": [
        "# Descargar y descomprimir el dataset\n",
        "!wget https://github.com/javierherrera1996/lecture_analytics/raw/main/cars_dataset.zip\n",
        "!unzip -o cars_dataset.zip\n"
      ],
      "metadata": {
        "colab": {
          "base_uri": "https://localhost:8080/"
        },
        "id": "2vtX7uwT20yl",
        "outputId": "fc9e1f41-c48f-4806-8cd5-a5e41815ed85"
      },
      "execution_count": 25,
      "outputs": [
        {
          "output_type": "stream",
          "name": "stdout",
          "text": [
            "--2025-03-12 20:48:58--  https://github.com/javierherrera1996/lecture_analytics/raw/main/cars_dataset.zip\n",
            "Resolving github.com (github.com)... 140.82.114.4\n",
            "Connecting to github.com (github.com)|140.82.114.4|:443... connected.\n",
            "HTTP request sent, awaiting response... 302 Found\n",
            "Location: https://raw.githubusercontent.com/javierherrera1996/lecture_analytics/main/cars_dataset.zip [following]\n",
            "--2025-03-12 20:48:58--  https://raw.githubusercontent.com/javierherrera1996/lecture_analytics/main/cars_dataset.zip\n",
            "Resolving raw.githubusercontent.com (raw.githubusercontent.com)... 185.199.108.133, 185.199.109.133, 185.199.110.133, ...\n",
            "Connecting to raw.githubusercontent.com (raw.githubusercontent.com)|185.199.108.133|:443... connected.\n",
            "HTTP request sent, awaiting response... 200 OK\n",
            "Length: 19753181 (19M) [application/zip]\n",
            "Saving to: ‘cars_dataset.zip.1’\n",
            "\n",
            "cars_dataset.zip.1  100%[===================>]  18.84M   115MB/s    in 0.2s    \n",
            "\n",
            "2025-03-12 20:48:59 (115 MB/s) - ‘cars_dataset.zip.1’ saved [19753181/19753181]\n",
            "\n",
            "Archive:  cars_dataset.zip\n",
            "  inflating: car_prices.csv          \n"
          ]
        }
      ]
    },
    {
      "cell_type": "code",
      "execution_count": 25,
      "metadata": {
        "id": "-AStXetv2c5v"
      },
      "outputs": [],
      "source": []
    },
    {
      "cell_type": "code",
      "execution_count": 25,
      "metadata": {
        "id": "orI-vw8A2c5v"
      },
      "outputs": [],
      "source": []
    },
    {
      "cell_type": "markdown",
      "metadata": {
        "id": "Cjs4U9HU2c5w"
      },
      "source": [
        "## 2. Análisis Exploratorio de Datos (EDA)\n",
        "\n",
        "Se generan estadísticas descriptivas para analizar las variables numéricas y entender la distribución de los datos."
      ]
    },
    {
      "cell_type": "code",
      "execution_count": 26,
      "metadata": {
        "id": "r8DvyOTC2c5w",
        "outputId": "c83f94f9-e4f5-46eb-f9f6-f2b4e68bfd49",
        "colab": {
          "base_uri": "https://localhost:8080/"
        }
      },
      "outputs": [
        {
          "output_type": "stream",
          "name": "stdout",
          "text": [
            "   year   make                model        trim   body transmission  \\\n",
            "0  2015    Kia              Sorento          LX    SUV    automatic   \n",
            "1  2015    Kia              Sorento          LX    SUV    automatic   \n",
            "2  2014    BMW             3 Series  328i SULEV  Sedan    automatic   \n",
            "3  2015  Volvo                  S60          T5  Sedan    automatic   \n",
            "4  2014    BMW  6 Series Gran Coupe        650i  Sedan    automatic   \n",
            "\n",
            "                 vin state  condition  odometer  color interior  \\\n",
            "0  5xyktca69fg566472    ca        5.0   16639.0  white    black   \n",
            "1  5xyktca69fg561319    ca        5.0    9393.0  white    beige   \n",
            "2  wba3c1c51ek116351    ca       45.0    1331.0   gray    black   \n",
            "3  yv1612tb4f1310987    ca       41.0   14282.0  white    black   \n",
            "4  wba6b2c57ed129731    ca       43.0    2641.0   gray    black   \n",
            "\n",
            "                                   seller      mmr  sellingprice  \\\n",
            "0                 kia motors america  inc  20500.0       21500.0   \n",
            "1                 kia motors america  inc  20800.0       21500.0   \n",
            "2  financial services remarketing (lease)  31900.0       30000.0   \n",
            "3                 volvo na rep/world omni  27500.0       27750.0   \n",
            "4  financial services remarketing (lease)  66000.0       67000.0   \n",
            "\n",
            "                                  saledate  \n",
            "0  Tue Dec 16 2014 12:30:00 GMT-0800 (PST)  \n",
            "1  Tue Dec 16 2014 12:30:00 GMT-0800 (PST)  \n",
            "2  Thu Jan 15 2015 04:30:00 GMT-0800 (PST)  \n",
            "3  Thu Jan 29 2015 04:30:00 GMT-0800 (PST)  \n",
            "4  Thu Dec 18 2014 12:30:00 GMT-0800 (PST)  \n"
          ]
        }
      ],
      "source": [
        "df = pd.read_csv('cars_dataset.zip')\n",
        "print(df.head())"
      ]
    },
    {
      "cell_type": "markdown",
      "metadata": {
        "id": "20HEM8yr2c5w"
      },
      "source": [
        "## 3. Modelo de Regresión Lineal\n",
        "\n",
        "Se utiliza la variable 'odometer' para predecir 'sellingprice'. Se dividen los datos en conjunto de entrenamiento y prueba (80%-20%)."
      ]
    },
    {
      "cell_type": "code",
      "execution_count": 27,
      "metadata": {
        "id": "XC3SCRIk2c5x"
      },
      "outputs": [],
      "source": [
        "import pandas as pd\n",
        "import numpy as np\n",
        "\n",
        "from sklearn.model_selection import train_test_split\n",
        "from sklearn.linear_model import LinearRegression\n",
        "from sklearn.metrics import mean_squared_error, mean_absolute_error, r2_score\n",
        "\n",
        "# Import matplotlib.pyplot\n",
        "import matplotlib.pyplot as plt\n",
        "%matplotlib inline\n",
        "\n",
        "# ... (rest of your code) ...\n",
        "\n",
        "X = df[['odometer']]\n",
        "y = df['sellingprice']\n",
        "X_train, X_test, y_train, y_test = train_test_split(X, y, test_size=0.2, random_state=42)\n",
        "plt.show()\n"
      ]
    },
    {
      "cell_type": "markdown",
      "metadata": {
        "id": "zN0tFURm2c5x"
      },
      "source": [
        "## 4. Evaluación del Modelo\n",
        "\n",
        "Se evalúa el desempeño del modelo en el conjunto de prueba utilizando métricas como MSE, MAE y R²."
      ]
    },
    {
      "cell_type": "code",
      "execution_count": 28,
      "metadata": {
        "id": "wL2xptp_2c5x",
        "outputId": "0a4f4c69-0ec9-485e-f90f-e2ef33adca52",
        "colab": {
          "base_uri": "https://localhost:8080/"
        }
      },
      "outputs": [
        {
          "output_type": "stream",
          "name": "stdout",
          "text": [
            "Registros originales: 558837\n",
            "Registros después de limpieza: 558731\n",
            "Registros eliminados: 106\n",
            "Mean Squared Error (MSE): 61007425.466844186\n",
            "Mean Absolute Error (MAE): 5465.575492678092\n",
            "R-squared (R²): 0.346842216814783\n"
          ]
        }
      ],
      "source": [
        "import pandas as pd\n",
        "from sklearn.model_selection import train_test_split\n",
        "from sklearn.linear_model import LinearRegression\n",
        "\n",
        "# Cargar datos y limpiar NaN\n",
        "df = pd.read_csv(\"car_prices.csv\")\n",
        "\n",
        "# 1. Eliminar filas con NaN en las columnas relevantes\n",
        "df_clean = df[['odometer', 'sellingprice']].dropna()\n",
        "\n",
        "# Verificar cantidad de datos eliminados\n",
        "print(f\"Registros originales: {len(df)}\")\n",
        "print(f\"Registros después de limpieza: {len(df_clean)}\")\n",
        "print(f\"Registros eliminados: {len(df) - len(df_clean)}\")\n",
        "\n",
        "# 2. Dividir datos limpios\n",
        "X = df_clean[['odometer']]\n",
        "y = df_clean['sellingprice']\n",
        "X_train, X_test, y_train, y_test = train_test_split(X, y, test_size=0.2, random_state=42)\n",
        "\n",
        "# 3. Entrenar modelo\n",
        "model = LinearRegression()\n",
        "model.fit(X_train, y_train)\n",
        "\n",
        "# prompt: MSE, MAE y R²\n",
        "\n",
        "# 4. Hacer predicciones\n",
        "y_pred = model.predict(X_test)\n",
        "\n",
        "# 5. Calcular métricas\n",
        "mse = mean_squared_error(y_test, y_pred)\n",
        "mae = mean_absolute_error(y_test, y_pred)\n",
        "r2 = r2_score(y_test, y_pred)\n",
        "\n",
        "print(f\"Mean Squared Error (MSE): {mse}\")\n",
        "print(f\"Mean Absolute Error (MAE): {mae}\")\n",
        "print(f\"R-squared (R²): {r2}\")\n"
      ]
    },
    {
      "cell_type": "markdown",
      "metadata": {
        "id": "27nhHQdY2c5x"
      },
      "source": [
        "## 5. Predicción y Respuestas a Preguntas de Negocio\n",
        "\n",
        "### Pregunta 1: Precio Estimado para un Carro con 92670.5 km\n",
        "\n",
        "Utilizamos el modelo para predecir el precio de venta de un carro con 92670.5 km."
      ]
    },
    {
      "cell_type": "code",
      "execution_count": 29,
      "metadata": {
        "id": "dMhv6HZN2c5x",
        "outputId": "fd9974a3-c334-40d8-a88e-ad42fa4c27d5",
        "colab": {
          "base_uri": "https://localhost:8080/",
          "height": 600
        }
      },
      "outputs": [
        {
          "output_type": "stream",
          "name": "stdout",
          "text": [
            "Predicción de precio para vehículo con 92,670.5 km (57,582.9 millas)\n",
            "Precio estimado: $14,752.86\n"
          ]
        },
        {
          "output_type": "display_data",
          "data": {
            "text/plain": [
              "<Figure size 1000x600 with 1 Axes>"
            ],
            "image/png": "[encoded data removed]"
          },
          "metadata": {}
        }
      ],
      "source": [
        "import numpy as np\n",
        "\n",
        "# Convertir kilómetros a millas (1 milla = 1.60934 km)\n",
        "km = 92670.5\n",
        "millas = km / 1.60934\n",
        "\n",
        "# Crear DataFrame de entrada para predicción\n",
        "nuevo_dato = pd.DataFrame({'odometer': [millas]})\n",
        "\n",
        "# Hacer predicción\n",
        "precio_predicho = model.predict(nuevo_dato)\n",
        "\n",
        "# Mostrar resultados\n",
        "print(f\"Predicción de precio para vehículo con {km:,.1f} km ({millas:,.1f} millas)\")\n",
        "print(f\"Precio estimado: ${precio_predicho[0]:,.2f}\")\n",
        "\n",
        "# Visualización en contexto\n",
        "plt.figure(figsize=(10, 6))\n",
        "plt.scatter(X_test, y_test, color='blue', alpha=0.3, label='Datos reales')\n",
        "plt.scatter(nuevo_dato['odometer'], precio_predicho, color='red', s=100,\n",
        "           edgecolor='black', label='Predicción', zorder=5)\n",
        "plt.title('Predicción de Precio vs Kilometraje')\n",
        "plt.xlabel('Odómetro (millas)')\n",
        "plt.ylabel('Precio de Venta ($)')\n",
        "plt.legend()\n",
        "plt.grid(True)\n",
        "plt.show()\n"
      ]
    },
    {
      "cell_type": "markdown",
      "metadata": {
        "id": "Fr74B3XP2c5x"
      },
      "source": [
        "## 6. Análisis Crítico de Resultados (10 Puntos Cerrados)\n",
        "\n",
        "Responde a las siguientes preguntas de manera cerrada (Sí/No). Estas preguntas facilitan una calificación rápida:\n",
        "\n",
        "1. ¿El coeficiente negativo (-0.107) indica que a mayor kilometraje, menor precio de venta? (Sí/No)\n",
        "2. ¿Un R² de 0.336 sugiere que el modelo explica más del 50% de la variabilidad en el precio de venta? (Sí/No)\n",
        "3. ¿El valor elevado del MSE indica que existen errores importantes en las predicciones? (Sí/No)\n",
        "4. ¿El MAE obtenido es suficientemente bajo para garantizar predicciones precisas en todos los casos? (Sí/No)\n",
        "5. ¿La eliminación de filas con valores faltantes puede reducir la robustez del modelo? (Sí/No)\n",
        "6. ¿Incluir variables adicionales como año, condición y marca podría mejorar la capacidad predictiva del modelo? (Sí/No)\n",
        "7. ¿La relación negativa entre kilometraje y precio es consistente con el comportamiento esperado en el mercado de vehículos? (Sí/No)\n",
        "8. ¿Dividir los datos en 80% entrenamiento y 20% prueba es una práctica recomendada para evaluar el modelo? (Sí/No)\n"
      ]
    },
    {
      "cell_type": "markdown",
      "source": [
        "1. ¿El coeficiente negativo (-0.107) indica que a mayor kilometraje, menor precio de venta? (Sí)\n",
        "Sí. Un coeficiente negativo en una regresión lineal indica una\n",
        "relación inversa entre las variables.  En este caso, a mayor kilometraje (odómetro), menor precio de venta.\n",
        "\n",
        "\n",
        "2. ¿Un R² de 0.336 sugiere que el modelo explica más del 50% de la variabilidad en el precio de venta? (No)\n",
        "No. Un R² de 0.336 significa que el modelo explica el 33.6% de la variabilidad en el precio de venta.  Esto es menor al 50%.\n",
        "\n",
        "\n",
        "3. ¿El valor elevado del MSE indica que existen errores importantes en las predicciones? (Sí)\n",
        "Sí. El MSE (Error Cuadrático Medio) mide la diferencia promedio al cuadrado entre los valores predichos y los reales. Un valor alto indica errores significativos en las predicciones.\n",
        "\n",
        "\n",
        "4. ¿El MAE obtenido es suficientemente bajo para garantizar predicciones precisas en todos los casos? (No)\n",
        "No. El MAE (Error Absoluto Medio) proporciona una medida de la magnitud promedio del error.  Aunque bajo en comparación con otros posibles errores, no garantiza precisión en todos los casos; solo brinda una idea general de precisión.\n",
        "\n",
        "\n",
        "5. ¿La eliminación de filas con valores faltantes puede reducir la robustez del modelo? (Sí)\n",
        "Sí. Eliminar filas con valores faltantes puede reducir la cantidad de datos usados para el entrenamiento, lo que disminuye la capacidad del modelo para generalizar, potencialmente reduciendo su robustez.\n",
        "\n",
        "\n",
        "6. ¿Incluir variables adicionales como año, condición y marca podría mejorar la capacidad predictiva del modelo? (Sí)\n",
        "Sí.  El año, la condición y la marca del vehículo son factores importantes que influyen en el precio de venta. Incluir estas variables como predictores probablemente mejore el modelo, explicando más variabilidad en el precio.\n",
        "\n",
        "\n",
        "7. ¿La relación negativa entre kilometraje y precio es consistente con el comportamiento esperado en el mercado de vehículos? (Sí)\n",
        "Sí. Generalmente, los vehículos con mayor kilometraje tienden a tener un menor precio de venta debido al desgaste, al mantenimiento potencial y a la depreciación.\n",
        "\n",
        "\n",
        "8. ¿Dividir los datos en 80% entrenamiento y 20% prueba es una práctica recomendada para evaluar el modelo? (Sí)\n",
        "Sí. Dividir los datos en conjuntos de entrenamiento y prueba es una práctica estándar.  El 80/20 es una proporción común, permitiendo al modelo aprender de la mayoría de los datos y evaluando su rendimiento en un conjunto independiente para evitar sobreajuste.\n"
      ],
      "metadata": {
        "id": "bRgtyHr1H83r"
      }
    },
    {
      "cell_type": "code",
      "source": [],
      "metadata": {
        "id": "v1t_mVsXIb6D"
      },
      "execution_count": null,
      "outputs": []
    }
  ],
  "metadata": {
    "colab": {
      "provenance": []
    },
    "kernelspec": {
      "display_name": "Python 3",
      "language": "python",
      "name": "python3"
    },
    "language_info": {
      "name": "python"
    }
  },
  "nbformat": 4,
  "nbformat_minor": 0
}
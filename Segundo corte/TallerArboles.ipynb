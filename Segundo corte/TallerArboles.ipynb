{
  "cells": [
    {
      "cell_type": "markdown",
      "id": "step-1",
      "metadata": {
        "id": "step-1"
      },
      "source": [
        "# Taller Interactivo: Árboles de Decisión y Evaluación de Modelos\n",
        "\n",
        "## Caso de Estudio: Social_Network_Ads\n",
        "\n",
        "Este taller profesional se centra en la construcción, interpretación y evaluación de un modelo de Árbol de Decisión utilizando el dataset _Social_Network_Ads_. Se evaluarán aspectos técnicos y se comparará el desempeño con un modelo de Regresión Logística, analizando métricas de evaluación y posibles indicadores de sobreajuste."
      ]
    },
    {
      "cell_type": "markdown",
      "id": "step-2",
      "metadata": {
        "id": "step-2"
      },
      "source": [
        "## 2. Objetivos del Taller\n",
        "\n",
        "En este taller se pretende:\n",
        "- Comprender los fundamentos teóricos de los árboles de decisión.\n",
        "- Realizar un análisis exploratorio y revisión de datos.\n",
        "- Aplicar la estratificación en el particionado de datos.\n",
        "- Entrenar y evaluar un modelo de Árbol de Decisión.\n",
        "- Visualizar y analizar la matriz de confusión y la curva ROC.\n",
        "- Ajustar el modelo para controlar la complejidad y el sobreajuste.\n",
        "- Promover el análisis crítico de los resultados obtenidos."
      ]
    },
    {
      "cell_type": "markdown",
      "id": "step-3",
      "metadata": {
        "id": "step-3"
      },
      "source": [
        "## 3. Carga del Dataset y Primer Análisis\n",
        "\n",
        "En esta sección se carga el dataset _Social_Network_Ads_ desde una URL y se visualizan las primeras filas y la información general. Esto permitirá conocer la estructura de los datos y los tipos de variables presentes."
      ]
    },
    {
      "cell_type": "code",
      "source": [
        "!wget https://raw.githubusercontent.com/javierherrera1996/lecture_analytics/main/datasets/Social_Network_Ads.csv"
      ],
      "metadata": {
        "colab": {
          "base_uri": "https://localhost:8080/"
        },
        "id": "_Amg1MmFH3vT",
        "outputId": "de3b525a-7516-4a66-f746-568050f2dc27"
      },
      "id": "_Amg1MmFH3vT",
      "execution_count": 1,
      "outputs": [
        {
          "output_type": "stream",
          "name": "stdout",
          "text": [
            "--2025-04-02 21:24:04--  https://raw.githubusercontent.com/javierherrera1996/lecture_analytics/main/datasets/Social_Network_Ads.csv\n",
            "Resolving raw.githubusercontent.com (raw.githubusercontent.com)... 185.199.111.133, 185.199.110.133, 185.199.108.133, ...\n",
            "Connecting to raw.githubusercontent.com (raw.githubusercontent.com)|185.199.111.133|:443... connected.\n",
            "HTTP request sent, awaiting response... 200 OK\n",
            "Length: 10926 (11K) [text/plain]\n",
            "Saving to: ‘Social_Network_Ads.csv’\n",
            "\n",
            "Social_Network_Ads. 100%[===================>]  10.67K  --.-KB/s    in 0s      \n",
            "\n",
            "2025-04-02 21:24:05 (28.8 MB/s) - ‘Social_Network_Ads.csv’ saved [10926/10926]\n",
            "\n"
          ]
        }
      ]
    },
    {
      "cell_type": "code",
      "execution_count": 8,
      "id": "code-carga-dataset",
      "metadata": {
        "id": "code-carga-dataset"
      },
      "outputs": [],
      "source": [
        "import pandas as pd\n",
        "import seaborn as sns\n",
        "import matplotlib.pyplot as plt\n",
        "\n",
        "df = pd.read_csv('Social_Network_Ads.csv')\n"
      ]
    },
    {
      "cell_type": "code",
      "source": [
        "# Mostrar las primeras filas\n",
        "\n",
        "print(\"Primeras filas del dataset:\")\n",
        "display(df.head())"
      ],
      "metadata": {
        "id": "H5GXHl4kH9NZ",
        "outputId": "ff0ea0b7-9693-4a3f-91f1-c57366482eb6",
        "colab": {
          "base_uri": "https://localhost:8080/",
          "height": 224
        }
      },
      "id": "H5GXHl4kH9NZ",
      "execution_count": 9,
      "outputs": [
        {
          "output_type": "stream",
          "name": "stdout",
          "text": [
            "Primeras filas del dataset:\n"
          ]
        },
        {
          "output_type": "display_data",
          "data": {
            "text/plain": [
              "    User ID  Gender  Age  EstimatedSalary  Purchased\n",
              "0  15624510    Male   19            19000          0\n",
              "1  15810944    Male   35            20000          0\n",
              "2  15668575  Female   26            43000          0\n",
              "3  15603246  Female   27            57000          0\n",
              "4  15804002    Male   19            76000          0"
            ],
            "text/html": [
              "\n",
              "  <div id=\"df-bd26fc17-123c-4a86-b78e-acb628693e18\" class=\"colab-df-container\">\n",
              "    <div>\n",
              "<style scoped>\n",
              "    .dataframe tbody tr th:only-of-type {\n",
              "        vertical-align: middle;\n",
              "    }\n",
              "\n",
              "    .dataframe tbody tr th {\n",
              "        vertical-align: top;\n",
              "    }\n",
              "\n",
              "    .dataframe thead th {\n",
              "        text-align: right;\n",
              "    }\n",
              "</style>\n",
              "<table border=\"1\" class=\"dataframe\">\n",
              "  <thead>\n",
              "    <tr style=\"text-align: right;\">\n",
              "      <th></th>\n",
              "      <th>User ID</th>\n",
              "      <th>Gender</th>\n",
              "      <th>Age</th>\n",
              "      <th>EstimatedSalary</th>\n",
              "      <th>Purchased</th>\n",
              "    </tr>\n",
              "  </thead>\n",
              "  <tbody>\n",
              "    <tr>\n",
              "      <th>0</th>\n",
              "      <td>15624510</td>\n",
              "      <td>Male</td>\n",
              "      <td>19</td>\n",
              "      <td>19000</td>\n",
              "      <td>0</td>\n",
              "    </tr>\n",
              "    <tr>\n",
              "      <th>1</th>\n",
              "      <td>15810944</td>\n",
              "      <td>Male</td>\n",
              "      <td>35</td>\n",
              "      <td>20000</td>\n",
              "      <td>0</td>\n",
              "    </tr>\n",
              "    <tr>\n",
              "      <th>2</th>\n",
              "      <td>15668575</td>\n",
              "      <td>Female</td>\n",
              "      <td>26</td>\n",
              "      <td>43000</td>\n",
              "      <td>0</td>\n",
              "    </tr>\n",
              "    <tr>\n",
              "      <th>3</th>\n",
              "      <td>15603246</td>\n",
              "      <td>Female</td>\n",
              "      <td>27</td>\n",
              "      <td>57000</td>\n",
              "      <td>0</td>\n",
              "    </tr>\n",
              "    <tr>\n",
              "      <th>4</th>\n",
              "      <td>15804002</td>\n",
              "      <td>Male</td>\n",
              "      <td>19</td>\n",
              "      <td>76000</td>\n",
              "      <td>0</td>\n",
              "    </tr>\n",
              "  </tbody>\n",
              "</table>\n",
              "</div>\n",
              "    <div class=\"colab-df-buttons\">\n",
              "\n",
              "  <div class=\"colab-df-container\">\n",
              "    <button class=\"colab-df-convert\" onclick=\"convertToInteractive('df-bd26fc17-123c-4a86-b78e-acb628693e18')\"\n",
              "            title=\"Convert this dataframe to an interactive table.\"\n",
              "            style=\"display:none;\">\n",
              "\n",
              "  <svg xmlns=\"http://www.w3.org/2000/svg\" height=\"24px\" viewBox=\"0 -960 960 960\">\n",
              "    <path d=\"M120-120v-720h720v720H120Zm60-500h600v-160H180v160Zm220 220h160v-160H400v160Zm0 220h160v-160H400v160ZM180-400h160v-160H180v160Zm440 0h160v-160H620v160ZM180-180h160v-160H180v160Zm440 0h160v-160H620v160Z\"/>\n",
              "  </svg>\n",
              "    </button>\n",
              "\n",
              "  <style>\n",
              "    .colab-df-container {\n",
              "      display:flex;\n",
              "      gap: 12px;\n",
              "    }\n",
              "\n",
              "    .colab-df-convert {\n",
              "      background-color: #E8F0FE;\n",
              "      border: none;\n",
              "      border-radius: 50%;\n",
              "      cursor: pointer;\n",
              "      display: none;\n",
              "      fill: #1967D2;\n",
              "      height: 32px;\n",
              "      padding: 0 0 0 0;\n",
              "      width: 32px;\n",
              "    }\n",
              "\n",
              "    .colab-df-convert:hover {\n",
              "      background-color: #E2EBFA;\n",
              "      box-shadow: 0px 1px 2px rgba(60, 64, 67, 0.3), 0px 1px 3px 1px rgba(60, 64, 67, 0.15);\n",
              "      fill: #174EA6;\n",
              "    }\n",
              "\n",
              "    .colab-df-buttons div {\n",
              "      margin-bottom: 4px;\n",
              "    }\n",
              "\n",
              "    [theme=dark] .colab-df-convert {\n",
              "      background-color: #3B4455;\n",
              "      fill: #D2E3FC;\n",
              "    }\n",
              "\n",
              "    [theme=dark] .colab-df-convert:hover {\n",
              "      background-color: #434B5C;\n",
              "      box-shadow: 0px 1px 3px 1px rgba(0, 0, 0, 0.15);\n",
              "      filter: drop-shadow(0px 1px 2px rgba(0, 0, 0, 0.3));\n",
              "      fill: #FFFFFF;\n",
              "    }\n",
              "  </style>\n",
              "\n",
              "    <script>\n",
              "      const buttonEl =\n",
              "        document.querySelector('#df-bd26fc17-123c-4a86-b78e-acb628693e18 button.colab-df-convert');\n",
              "      buttonEl.style.display =\n",
              "        google.colab.kernel.accessAllowed ? 'block' : 'none';\n",
              "\n",
              "      async function convertToInteractive(key) {\n",
              "        const element = document.querySelector('#df-bd26fc17-123c-4a86-b78e-acb628693e18');\n",
              "        const dataTable =\n",
              "          await google.colab.kernel.invokeFunction('convertToInteractive',\n",
              "                                                    [key], {});\n",
              "        if (!dataTable) return;\n",
              "\n",
              "        const docLinkHtml = 'Like what you see? Visit the ' +\n",
              "          '<a target=\"_blank\" href=https://colab.research.google.com/notebooks/data_table.ipynb>data table notebook</a>'\n",
              "          + ' to learn more about interactive tables.';\n",
              "        element.innerHTML = '';\n",
              "        dataTable['output_type'] = 'display_data';\n",
              "        await google.colab.output.renderOutput(dataTable, element);\n",
              "        const docLink = document.createElement('div');\n",
              "        docLink.innerHTML = docLinkHtml;\n",
              "        element.appendChild(docLink);\n",
              "      }\n",
              "    </script>\n",
              "  </div>\n",
              "\n",
              "\n",
              "<div id=\"df-5372fbe6-3fc2-47ce-963c-7ae154da4962\">\n",
              "  <button class=\"colab-df-quickchart\" onclick=\"quickchart('df-5372fbe6-3fc2-47ce-963c-7ae154da4962')\"\n",
              "            title=\"Suggest charts\"\n",
              "            style=\"display:none;\">\n",
              "\n",
              "<svg xmlns=\"http://www.w3.org/2000/svg\" height=\"24px\"viewBox=\"0 0 24 24\"\n",
              "     width=\"24px\">\n",
              "    <g>\n",
              "        <path d=\"M19 3H5c-1.1 0-2 .9-2 2v14c0 1.1.9 2 2 2h14c1.1 0 2-.9 2-2V5c0-1.1-.9-2-2-2zM9 17H7v-7h2v7zm4 0h-2V7h2v10zm4 0h-2v-4h2v4z\"/>\n",
              "    </g>\n",
              "</svg>\n",
              "  </button>\n",
              "\n",
              "<style>\n",
              "  .colab-df-quickchart {\n",
              "      --bg-color: #E8F0FE;\n",
              "      --fill-color: #1967D2;\n",
              "      --hover-bg-color: #E2EBFA;\n",
              "      --hover-fill-color: #174EA6;\n",
              "      --disabled-fill-color: #AAA;\n",
              "      --disabled-bg-color: #DDD;\n",
              "  }\n",
              "\n",
              "  [theme=dark] .colab-df-quickchart {\n",
              "      --bg-color: #3B4455;\n",
              "      --fill-color: #D2E3FC;\n",
              "      --hover-bg-color: #434B5C;\n",
              "      --hover-fill-color: #FFFFFF;\n",
              "      --disabled-bg-color: #3B4455;\n",
              "      --disabled-fill-color: #666;\n",
              "  }\n",
              "\n",
              "  .colab-df-quickchart {\n",
              "    background-color: var(--bg-color);\n",
              "    border: none;\n",
              "    border-radius: 50%;\n",
              "    cursor: pointer;\n",
              "    display: none;\n",
              "    fill: var(--fill-color);\n",
              "    height: 32px;\n",
              "    padding: 0;\n",
              "    width: 32px;\n",
              "  }\n",
              "\n",
              "  .colab-df-quickchart:hover {\n",
              "    background-color: var(--hover-bg-color);\n",
              "    box-shadow: 0 1px 2px rgba(60, 64, 67, 0.3), 0 1px 3px 1px rgba(60, 64, 67, 0.15);\n",
              "    fill: var(--button-hover-fill-color);\n",
              "  }\n",
              "\n",
              "  .colab-df-quickchart-complete:disabled,\n",
              "  .colab-df-quickchart-complete:disabled:hover {\n",
              "    background-color: var(--disabled-bg-color);\n",
              "    fill: var(--disabled-fill-color);\n",
              "    box-shadow: none;\n",
              "  }\n",
              "\n",
              "  .colab-df-spinner {\n",
              "    border: 2px solid var(--fill-color);\n",
              "    border-color: transparent;\n",
              "    border-bottom-color: var(--fill-color);\n",
              "    animation:\n",
              "      spin 1s steps(1) infinite;\n",
              "  }\n",
              "\n",
              "  @keyframes spin {\n",
              "    0% {\n",
              "      border-color: transparent;\n",
              "      border-bottom-color: var(--fill-color);\n",
              "      border-left-color: var(--fill-color);\n",
              "    }\n",
              "    20% {\n",
              "      border-color: transparent;\n",
              "      border-left-color: var(--fill-color);\n",
              "      border-top-color: var(--fill-color);\n",
              "    }\n",
              "    30% {\n",
              "      border-color: transparent;\n",
              "      border-left-color: var(--fill-color);\n",
              "      border-top-color: var(--fill-color);\n",
              "      border-right-color: var(--fill-color);\n",
              "    }\n",
              "    40% {\n",
              "      border-color: transparent;\n",
              "      border-right-color: var(--fill-color);\n",
              "      border-top-color: var(--fill-color);\n",
              "    }\n",
              "    60% {\n",
              "      border-color: transparent;\n",
              "      border-right-color: var(--fill-color);\n",
              "    }\n",
              "    80% {\n",
              "      border-color: transparent;\n",
              "      border-right-color: var(--fill-color);\n",
              "      border-bottom-color: var(--fill-color);\n",
              "    }\n",
              "    90% {\n",
              "      border-color: transparent;\n",
              "      border-bottom-color: var(--fill-color);\n",
              "    }\n",
              "  }\n",
              "</style>\n",
              "\n",
              "  <script>\n",
              "    async function quickchart(key) {\n",
              "      const quickchartButtonEl =\n",
              "        document.querySelector('#' + key + ' button');\n",
              "      quickchartButtonEl.disabled = true;  // To prevent multiple clicks.\n",
              "      quickchartButtonEl.classList.add('colab-df-spinner');\n",
              "      try {\n",
              "        const charts = await google.colab.kernel.invokeFunction(\n",
              "            'suggestCharts', [key], {});\n",
              "      } catch (error) {\n",
              "        console.error('Error during call to suggestCharts:', error);\n",
              "      }\n",
              "      quickchartButtonEl.classList.remove('colab-df-spinner');\n",
              "      quickchartButtonEl.classList.add('colab-df-quickchart-complete');\n",
              "    }\n",
              "    (() => {\n",
              "      let quickchartButtonEl =\n",
              "        document.querySelector('#df-5372fbe6-3fc2-47ce-963c-7ae154da4962 button');\n",
              "      quickchartButtonEl.style.display =\n",
              "        google.colab.kernel.accessAllowed ? 'block' : 'none';\n",
              "    })();\n",
              "  </script>\n",
              "</div>\n",
              "\n",
              "    </div>\n",
              "  </div>\n"
            ],
            "application/vnd.google.colaboratory.intrinsic+json": {
              "type": "dataframe",
              "summary": "{\n  \"name\": \"display(df\",\n  \"rows\": 5,\n  \"fields\": [\n    {\n      \"column\": \"User ID\",\n      \"properties\": {\n        \"dtype\": \"number\",\n        \"std\": 98928,\n        \"min\": 15603246,\n        \"max\": 15810944,\n        \"num_unique_values\": 5,\n        \"samples\": [\n          15810944,\n          15804002,\n          15668575\n        ],\n        \"semantic_type\": \"\",\n        \"description\": \"\"\n      }\n    },\n    {\n      \"column\": \"Gender\",\n      \"properties\": {\n        \"dtype\": \"category\",\n        \"num_unique_values\": 2,\n        \"samples\": [\n          \"Female\",\n          \"Male\"\n        ],\n        \"semantic_type\": \"\",\n        \"description\": \"\"\n      }\n    },\n    {\n      \"column\": \"Age\",\n      \"properties\": {\n        \"dtype\": \"number\",\n        \"std\": 6,\n        \"min\": 19,\n        \"max\": 35,\n        \"num_unique_values\": 4,\n        \"samples\": [\n          35,\n          27\n        ],\n        \"semantic_type\": \"\",\n        \"description\": \"\"\n      }\n    },\n    {\n      \"column\": \"EstimatedSalary\",\n      \"properties\": {\n        \"dtype\": \"number\",\n        \"std\": 24443,\n        \"min\": 19000,\n        \"max\": 76000,\n        \"num_unique_values\": 5,\n        \"samples\": [\n          20000,\n          76000\n        ],\n        \"semantic_type\": \"\",\n        \"description\": \"\"\n      }\n    },\n    {\n      \"column\": \"Purchased\",\n      \"properties\": {\n        \"dtype\": \"number\",\n        \"std\": 0,\n        \"min\": 0,\n        \"max\": 0,\n        \"num_unique_values\": 1,\n        \"samples\": [\n          0\n        ],\n        \"semantic_type\": \"\",\n        \"description\": \"\"\n      }\n    }\n  ]\n}"
            }
          },
          "metadata": {}
        }
      ]
    },
    {
      "cell_type": "code",
      "source": [
        "# Información general del dataset\n",
        "print(\"Descripción estadística:\")\n",
        "display(df.describe())"
      ],
      "metadata": {
        "id": "sijKo-poH-wn",
        "outputId": "c709b698-e1ad-4fa4-c05c-7d2bdf4ea73a",
        "colab": {
          "base_uri": "https://localhost:8080/",
          "height": 318
        }
      },
      "id": "sijKo-poH-wn",
      "execution_count": 10,
      "outputs": [
        {
          "output_type": "stream",
          "name": "stdout",
          "text": [
            "Descripción estadística:\n"
          ]
        },
        {
          "output_type": "display_data",
          "data": {
            "text/plain": [
              "            User ID         Age  EstimatedSalary   Purchased\n",
              "count  4.000000e+02  400.000000       400.000000  400.000000\n",
              "mean   1.569154e+07   37.655000     69742.500000    0.357500\n",
              "std    7.165832e+04   10.482877     34096.960282    0.479864\n",
              "min    1.556669e+07   18.000000     15000.000000    0.000000\n",
              "25%    1.562676e+07   29.750000     43000.000000    0.000000\n",
              "50%    1.569434e+07   37.000000     70000.000000    0.000000\n",
              "75%    1.575036e+07   46.000000     88000.000000    1.000000\n",
              "max    1.581524e+07   60.000000    150000.000000    1.000000"
            ],
            "text/html": [
              "\n",
              "  <div id=\"df-a5b459c4-24aa-456f-b424-6653bd8b6a6b\" class=\"colab-df-container\">\n",
              "    <div>\n",
              "<style scoped>\n",
              "    .dataframe tbody tr th:only-of-type {\n",
              "        vertical-align: middle;\n",
              "    }\n",
              "\n",
              "    .dataframe tbody tr th {\n",
              "        vertical-align: top;\n",
              "    }\n",
              "\n",
              "    .dataframe thead th {\n",
              "        text-align: right;\n",
              "    }\n",
              "</style>\n",
              "<table border=\"1\" class=\"dataframe\">\n",
              "  <thead>\n",
              "    <tr style=\"text-align: right;\">\n",
              "      <th></th>\n",
              "      <th>User ID</th>\n",
              "      <th>Age</th>\n",
              "      <th>EstimatedSalary</th>\n",
              "      <th>Purchased</th>\n",
              "    </tr>\n",
              "  </thead>\n",
              "  <tbody>\n",
              "    <tr>\n",
              "      <th>count</th>\n",
              "      <td>4.000000e+02</td>\n",
              "      <td>400.000000</td>\n",
              "      <td>400.000000</td>\n",
              "      <td>400.000000</td>\n",
              "    </tr>\n",
              "    <tr>\n",
              "      <th>mean</th>\n",
              "      <td>1.569154e+07</td>\n",
              "      <td>37.655000</td>\n",
              "      <td>69742.500000</td>\n",
              "      <td>0.357500</td>\n",
              "    </tr>\n",
              "    <tr>\n",
              "      <th>std</th>\n",
              "      <td>7.165832e+04</td>\n",
              "      <td>10.482877</td>\n",
              "      <td>34096.960282</td>\n",
              "      <td>0.479864</td>\n",
              "    </tr>\n",
              "    <tr>\n",
              "      <th>min</th>\n",
              "      <td>1.556669e+07</td>\n",
              "      <td>18.000000</td>\n",
              "      <td>15000.000000</td>\n",
              "      <td>0.000000</td>\n",
              "    </tr>\n",
              "    <tr>\n",
              "      <th>25%</th>\n",
              "      <td>1.562676e+07</td>\n",
              "      <td>29.750000</td>\n",
              "      <td>43000.000000</td>\n",
              "      <td>0.000000</td>\n",
              "    </tr>\n",
              "    <tr>\n",
              "      <th>50%</th>\n",
              "      <td>1.569434e+07</td>\n",
              "      <td>37.000000</td>\n",
              "      <td>70000.000000</td>\n",
              "      <td>0.000000</td>\n",
              "    </tr>\n",
              "    <tr>\n",
              "      <th>75%</th>\n",
              "      <td>1.575036e+07</td>\n",
              "      <td>46.000000</td>\n",
              "      <td>88000.000000</td>\n",
              "      <td>1.000000</td>\n",
              "    </tr>\n",
              "    <tr>\n",
              "      <th>max</th>\n",
              "      <td>1.581524e+07</td>\n",
              "      <td>60.000000</td>\n",
              "      <td>150000.000000</td>\n",
              "      <td>1.000000</td>\n",
              "    </tr>\n",
              "  </tbody>\n",
              "</table>\n",
              "</div>\n",
              "    <div class=\"colab-df-buttons\">\n",
              "\n",
              "  <div class=\"colab-df-container\">\n",
              "    <button class=\"colab-df-convert\" onclick=\"convertToInteractive('df-a5b459c4-24aa-456f-b424-6653bd8b6a6b')\"\n",
              "            title=\"Convert this dataframe to an interactive table.\"\n",
              "            style=\"display:none;\">\n",
              "\n",
              "  <svg xmlns=\"http://www.w3.org/2000/svg\" height=\"24px\" viewBox=\"0 -960 960 960\">\n",
              "    <path d=\"M120-120v-720h720v720H120Zm60-500h600v-160H180v160Zm220 220h160v-160H400v160Zm0 220h160v-160H400v160ZM180-400h160v-160H180v160Zm440 0h160v-160H620v160ZM180-180h160v-160H180v160Zm440 0h160v-160H620v160Z\"/>\n",
              "  </svg>\n",
              "    </button>\n",
              "\n",
              "  <style>\n",
              "    .colab-df-container {\n",
              "      display:flex;\n",
              "      gap: 12px;\n",
              "    }\n",
              "\n",
              "    .colab-df-convert {\n",
              "      background-color: #E8F0FE;\n",
              "      border: none;\n",
              "      border-radius: 50%;\n",
              "      cursor: pointer;\n",
              "      display: none;\n",
              "      fill: #1967D2;\n",
              "      height: 32px;\n",
              "      padding: 0 0 0 0;\n",
              "      width: 32px;\n",
              "    }\n",
              "\n",
              "    .colab-df-convert:hover {\n",
              "      background-color: #E2EBFA;\n",
              "      box-shadow: 0px 1px 2px rgba(60, 64, 67, 0.3), 0px 1px 3px 1px rgba(60, 64, 67, 0.15);\n",
              "      fill: #174EA6;\n",
              "    }\n",
              "\n",
              "    .colab-df-buttons div {\n",
              "      margin-bottom: 4px;\n",
              "    }\n",
              "\n",
              "    [theme=dark] .colab-df-convert {\n",
              "      background-color: #3B4455;\n",
              "      fill: #D2E3FC;\n",
              "    }\n",
              "\n",
              "    [theme=dark] .colab-df-convert:hover {\n",
              "      background-color: #434B5C;\n",
              "      box-shadow: 0px 1px 3px 1px rgba(0, 0, 0, 0.15);\n",
              "      filter: drop-shadow(0px 1px 2px rgba(0, 0, 0, 0.3));\n",
              "      fill: #FFFFFF;\n",
              "    }\n",
              "  </style>\n",
              "\n",
              "    <script>\n",
              "      const buttonEl =\n",
              "        document.querySelector('#df-a5b459c4-24aa-456f-b424-6653bd8b6a6b button.colab-df-convert');\n",
              "      buttonEl.style.display =\n",
              "        google.colab.kernel.accessAllowed ? 'block' : 'none';\n",
              "\n",
              "      async function convertToInteractive(key) {\n",
              "        const element = document.querySelector('#df-a5b459c4-24aa-456f-b424-6653bd8b6a6b');\n",
              "        const dataTable =\n",
              "          await google.colab.kernel.invokeFunction('convertToInteractive',\n",
              "                                                    [key], {});\n",
              "        if (!dataTable) return;\n",
              "\n",
              "        const docLinkHtml = 'Like what you see? Visit the ' +\n",
              "          '<a target=\"_blank\" href=https://colab.research.google.com/notebooks/data_table.ipynb>data table notebook</a>'\n",
              "          + ' to learn more about interactive tables.';\n",
              "        element.innerHTML = '';\n",
              "        dataTable['output_type'] = 'display_data';\n",
              "        await google.colab.output.renderOutput(dataTable, element);\n",
              "        const docLink = document.createElement('div');\n",
              "        docLink.innerHTML = docLinkHtml;\n",
              "        element.appendChild(docLink);\n",
              "      }\n",
              "    </script>\n",
              "  </div>\n",
              "\n",
              "\n",
              "<div id=\"df-a7f0e5fb-cd9d-44fc-abbf-62c495a554ca\">\n",
              "  <button class=\"colab-df-quickchart\" onclick=\"quickchart('df-a7f0e5fb-cd9d-44fc-abbf-62c495a554ca')\"\n",
              "            title=\"Suggest charts\"\n",
              "            style=\"display:none;\">\n",
              "\n",
              "<svg xmlns=\"http://www.w3.org/2000/svg\" height=\"24px\"viewBox=\"0 0 24 24\"\n",
              "     width=\"24px\">\n",
              "    <g>\n",
              "        <path d=\"M19 3H5c-1.1 0-2 .9-2 2v14c0 1.1.9 2 2 2h14c1.1 0 2-.9 2-2V5c0-1.1-.9-2-2-2zM9 17H7v-7h2v7zm4 0h-2V7h2v10zm4 0h-2v-4h2v4z\"/>\n",
              "    </g>\n",
              "</svg>\n",
              "  </button>\n",
              "\n",
              "<style>\n",
              "  .colab-df-quickchart {\n",
              "      --bg-color: #E8F0FE;\n",
              "      --fill-color: #1967D2;\n",
              "      --hover-bg-color: #E2EBFA;\n",
              "      --hover-fill-color: #174EA6;\n",
              "      --disabled-fill-color: #AAA;\n",
              "      --disabled-bg-color: #DDD;\n",
              "  }\n",
              "\n",
              "  [theme=dark] .colab-df-quickchart {\n",
              "      --bg-color: #3B4455;\n",
              "      --fill-color: #D2E3FC;\n",
              "      --hover-bg-color: #434B5C;\n",
              "      --hover-fill-color: #FFFFFF;\n",
              "      --disabled-bg-color: #3B4455;\n",
              "      --disabled-fill-color: #666;\n",
              "  }\n",
              "\n",
              "  .colab-df-quickchart {\n",
              "    background-color: var(--bg-color);\n",
              "    border: none;\n",
              "    border-radius: 50%;\n",
              "    cursor: pointer;\n",
              "    display: none;\n",
              "    fill: var(--fill-color);\n",
              "    height: 32px;\n",
              "    padding: 0;\n",
              "    width: 32px;\n",
              "  }\n",
              "\n",
              "  .colab-df-quickchart:hover {\n",
              "    background-color: var(--hover-bg-color);\n",
              "    box-shadow: 0 1px 2px rgba(60, 64, 67, 0.3), 0 1px 3px 1px rgba(60, 64, 67, 0.15);\n",
              "    fill: var(--button-hover-fill-color);\n",
              "  }\n",
              "\n",
              "  .colab-df-quickchart-complete:disabled,\n",
              "  .colab-df-quickchart-complete:disabled:hover {\n",
              "    background-color: var(--disabled-bg-color);\n",
              "    fill: var(--disabled-fill-color);\n",
              "    box-shadow: none;\n",
              "  }\n",
              "\n",
              "  .colab-df-spinner {\n",
              "    border: 2px solid var(--fill-color);\n",
              "    border-color: transparent;\n",
              "    border-bottom-color: var(--fill-color);\n",
              "    animation:\n",
              "      spin 1s steps(1) infinite;\n",
              "  }\n",
              "\n",
              "  @keyframes spin {\n",
              "    0% {\n",
              "      border-color: transparent;\n",
              "      border-bottom-color: var(--fill-color);\n",
              "      border-left-color: var(--fill-color);\n",
              "    }\n",
              "    20% {\n",
              "      border-color: transparent;\n",
              "      border-left-color: var(--fill-color);\n",
              "      border-top-color: var(--fill-color);\n",
              "    }\n",
              "    30% {\n",
              "      border-color: transparent;\n",
              "      border-left-color: var(--fill-color);\n",
              "      border-top-color: var(--fill-color);\n",
              "      border-right-color: var(--fill-color);\n",
              "    }\n",
              "    40% {\n",
              "      border-color: transparent;\n",
              "      border-right-color: var(--fill-color);\n",
              "      border-top-color: var(--fill-color);\n",
              "    }\n",
              "    60% {\n",
              "      border-color: transparent;\n",
              "      border-right-color: var(--fill-color);\n",
              "    }\n",
              "    80% {\n",
              "      border-color: transparent;\n",
              "      border-right-color: var(--fill-color);\n",
              "      border-bottom-color: var(--fill-color);\n",
              "    }\n",
              "    90% {\n",
              "      border-color: transparent;\n",
              "      border-bottom-color: var(--fill-color);\n",
              "    }\n",
              "  }\n",
              "</style>\n",
              "\n",
              "  <script>\n",
              "    async function quickchart(key) {\n",
              "      const quickchartButtonEl =\n",
              "        document.querySelector('#' + key + ' button');\n",
              "      quickchartButtonEl.disabled = true;  // To prevent multiple clicks.\n",
              "      quickchartButtonEl.classList.add('colab-df-spinner');\n",
              "      try {\n",
              "        const charts = await google.colab.kernel.invokeFunction(\n",
              "            'suggestCharts', [key], {});\n",
              "      } catch (error) {\n",
              "        console.error('Error during call to suggestCharts:', error);\n",
              "      }\n",
              "      quickchartButtonEl.classList.remove('colab-df-spinner');\n",
              "      quickchartButtonEl.classList.add('colab-df-quickchart-complete');\n",
              "    }\n",
              "    (() => {\n",
              "      let quickchartButtonEl =\n",
              "        document.querySelector('#df-a7f0e5fb-cd9d-44fc-abbf-62c495a554ca button');\n",
              "      quickchartButtonEl.style.display =\n",
              "        google.colab.kernel.accessAllowed ? 'block' : 'none';\n",
              "    })();\n",
              "  </script>\n",
              "</div>\n",
              "\n",
              "    </div>\n",
              "  </div>\n"
            ],
            "application/vnd.google.colaboratory.intrinsic+json": {
              "type": "dataframe",
              "summary": "{\n  \"name\": \"display(df\",\n  \"rows\": 8,\n  \"fields\": [\n    {\n      \"column\": \"User ID\",\n      \"properties\": {\n        \"dtype\": \"number\",\n        \"std\": 7247165.99146923,\n        \"min\": 400.0,\n        \"max\": 15815236.0,\n        \"num_unique_values\": 8,\n        \"samples\": [\n          15691539.7575,\n          15694341.5,\n          400.0\n        ],\n        \"semantic_type\": \"\",\n        \"description\": \"\"\n      }\n    },\n    {\n      \"column\": \"Age\",\n      \"properties\": {\n        \"dtype\": \"number\",\n        \"std\": 130.27423677374767,\n        \"min\": 10.48287659730792,\n        \"max\": 400.0,\n        \"num_unique_values\": 8,\n        \"samples\": [\n          37.655,\n          37.0,\n          400.0\n        ],\n        \"semantic_type\": \"\",\n        \"description\": \"\"\n      }\n    },\n    {\n      \"column\": \"EstimatedSalary\",\n      \"properties\": {\n        \"dtype\": \"number\",\n        \"std\": 47214.004060407126,\n        \"min\": 400.0,\n        \"max\": 150000.0,\n        \"num_unique_values\": 8,\n        \"samples\": [\n          69742.5,\n          70000.0,\n          400.0\n        ],\n        \"semantic_type\": \"\",\n        \"description\": \"\"\n      }\n    },\n    {\n      \"column\": \"Purchased\",\n      \"properties\": {\n        \"dtype\": \"number\",\n        \"std\": 141.27865845809382,\n        \"min\": 0.0,\n        \"max\": 400.0,\n        \"num_unique_values\": 5,\n        \"samples\": [\n          0.3575,\n          1.0,\n          0.4798639635968701\n        ],\n        \"semantic_type\": \"\",\n        \"description\": \"\"\n      }\n    }\n  ]\n}"
            }
          },
          "metadata": {}
        }
      ]
    },
    {
      "cell_type": "markdown",
      "id": "step-4",
      "metadata": {
        "id": "step-4"
      },
      "source": [
        "## 4. Revisión de Variables y Tipos de Datos\n",
        "\n",
        "Examina las variables del dataset y discute brevemente el significado de cada una. Reflexiona sobre la relevancia de cada variable para el análisis y el modelado."
      ]
    },
    {
      "cell_type": "markdown",
      "source": [
        "User ID: No relevante, solo un identificador único.\n",
        "\n",
        "Gender: Relevante, puede influir en los hábitos de compra.\n",
        "\n",
        "Age: Relevante, afecta las decisiones de compra.\n",
        "\n",
        "EstimatedSalary: Muy relevante, determina la capacidad de compra.\n",
        "\n",
        "Purchased: Variable objetivo, esencial para la predicción."
      ],
      "metadata": {
        "id": "4tMODun2vNC1"
      },
      "id": "4tMODun2vNC1"
    },
    {
      "cell_type": "markdown",
      "id": "step-5",
      "metadata": {
        "id": "step-5"
      },
      "source": [
        "## 5. Visualización de la Distribución de la Variable Objetivo\n",
        "\n",
        "Visualiza la distribución de la variable `Purchased` usando un gráfico de barras. Esto permitirá identificar si existe un balance entre las clases.\n",
        "\n",
        "**Pregunta para el grupo:**\n",
        "- ¿La variable `Purchased` se encuentra balanceada? ¿Qué implicaciones podría tener un desequilibrio en la modelación?"
      ]
    },
    {
      "cell_type": "code",
      "execution_count": 12,
      "id": "code-distribucion",
      "metadata": {
        "id": "code-distribucion",
        "outputId": "5575705e-89b7-4966-f843-6e7c08c6e899",
        "colab": {
          "base_uri": "https://localhost:8080/",
          "height": 410
        }
      },
      "outputs": [
        {
          "output_type": "display_data",
          "data": {
            "text/plain": [
              "<Figure size 600x400 with 1 Axes>"
            ],
            "image/png": "[encoded data removed]"
          },
          "metadata": {}
        }
      ],
      "source": [
        "plt.figure(figsize=(6, 4))\n",
        "sns.countplot(x='Purchased', data=df)\n",
        "plt.title('Distribución de la variable Purchased')\n",
        "plt.xlabel('Purchased')\n",
        "plt.ylabel('Frecuencia')\n",
        "plt.show()\n",
        "\n",
        "No se encuentra balanceada"
      ]
    },
    {
      "cell_type": "markdown",
      "id": "step-6",
      "metadata": {
        "id": "step-6"
      },
      "source": [
        "## 6. Análisis de la Distribución y Reflexión\n",
        "\n",
        "Discute la distribución observada. Reflexiona sobre cómo un posible desbalance podría afectar la performance del modelo y qué estrategias se podrían utilizar para mitigarlo (por ejemplo, SMOTE en otros casos)."
      ]
    },
    {
      "cell_type": "markdown",
      "source": [
        "Si la variable Purchased está desbalanceada, el modelo podría predecir mayormente la clase mayoritaria, afectando la precisión y el recall de la clase minoritaria. Para mitigar esto, se pueden usar técnicas como SMOTE para equilibrar las clases, submuestreo o sobremuestreo, o ajustar el umbral de decisión del modelo."
      ],
      "metadata": {
        "id": "JyHiJ8VJIHeO"
      },
      "id": "JyHiJ8VJIHeO"
    },
    {
      "cell_type": "markdown",
      "id": "step-7",
      "metadata": {
        "id": "step-7"
      },
      "source": [
        "## 7. Selección de Variables para el Modelo\n",
        "\n",
        "Para este taller, se utilizarán las variables `Age` y `EstimatedSalary` como características para predecir `Purchased`.\n",
        "\n",
        "**Pregunta:**\n",
        "- ¿Por qué considerarían estas dos variables relevantes para predecir la compra?"
      ]
    },
    {
      "cell_type": "markdown",
      "source": [
        "son relevantes porque influyen en el comportamiento de compra, la edad determina las preferencias de producto, mientras que el salario refleja la capacidad adquisitica para realizar las compras"
      ],
      "metadata": {
        "id": "aOqrfYKKIIwM"
      },
      "id": "aOqrfYKKIIwM"
    },
    {
      "cell_type": "markdown",
      "id": "step-8",
      "metadata": {
        "id": "step-8"
      },
      "source": [
        "## 8. División de Datos: Entrenamiento y Prueba\n",
        "\n",
        "Se dividirá el dataset en un 75% para entrenamiento y un 25% para prueba, aplicando estratificación para mantener la proporción de clases.\n",
        "\n",
        "**Pregunta:**\n",
        "- ¿Qué ventajas ofrece la estratificación al dividir el dataset?"
      ]
    },
    {
      "cell_type": "markdown",
      "source": [
        "La estratificación asegura que las proporciones de clases en los conjuntos de entrenamiento y prueba sean similares a las del\n",
        "original, evitando sesgos y mejora la capacidad del modelo para generalizar y evaluar de manera más precisa."
      ],
      "metadata": {
        "id": "KLVnZ8yceXj_"
      },
      "id": "KLVnZ8yceXj_"
    },
    {
      "cell_type": "markdown",
      "id": "step-9",
      "metadata": {
        "id": "step-9"
      },
      "source": [
        "## 9. Entrenamiento Inicial del Modelo de Árbol de Decisión\n",
        "\n",
        "Se entrenará un modelo de Árbol de Decisión sin restricciones de profundidad utilizando el conjunto de entrenamiento.\n",
        "\n",
        "**Pregunta:**\n",
        "- ¿Qué implica entrenar un modelo sin restricciones de profundidad en términos de complejidad y riesgo de sobreajuste?"
      ]
    },
    {
      "cell_type": "markdown",
      "source": [
        "Puede resultar muy complejo porque el árbol puede crecer demasiado, adaptándose a cada detalle del conjunto de entrenamiento. Esto aumenta el riesgo de overfitting, donde el modelo se ajusta demasiado a los datos de entrenamiento y pierde capacidad para generalizar a nuevos datos"
      ],
      "metadata": {
        "id": "IBcDQy6ge-JG"
      },
      "id": "IBcDQy6ge-JG"
    },
    {
      "cell_type": "markdown",
      "id": "step-10",
      "metadata": {
        "id": "step-10"
      },
      "source": [
        "## 10. Evaluación del Modelo: Análisis de Métricas\n",
        "\n",
        "Analizaremos las métricas de evaluación obtenidas (exactitud, precisión, recall, F1-Score) y la matriz de confusión.\n",
        "\n",
        "**Pregunta:**\n",
        "- ¿Qué información específica nos aporta la matriz de confusión respecto a los errores del modelo?"
      ]
    },
    {
      "cell_type": "markdown",
      "source": [
        "Proporciona información detallada sobre los errores del modelo al mostrar los falsos positivos, falsos negativos, verdaderos positivos y verdaderos negativos. Permitiendo identificar qué tipo de error ocurre con mayor frecuencia y ajustar el modelo con base en eso"
      ],
      "metadata": {
        "id": "NWiyxbvXfb12"
      },
      "id": "NWiyxbvXfb12"
    },
    {
      "cell_type": "markdown",
      "id": "step-11",
      "metadata": {
        "id": "step-11"
      },
      "source": [
        "## 11. Visualización de la Curva ROC y Cálculo del AUC\n",
        "\n",
        "Genera la curva ROC y calcula el AUC para evaluar la capacidad discriminativa del modelo.\n",
        "\n",
        "**Pregunta:**\n",
        "- ¿Cómo interpretan la curva ROC y qué indica un valor de AUC alto o bajo?"
      ]
    },
    {
      "cell_type": "markdown",
      "source": [
        "Muestra el rendimiento del modelo en diferentes umbrales de clasificación, graficando la tasa de verdaderos positivos frente a la tasa de falsos positivos. Un AUC alto indica que el modelo tiene una excelente capacidad para discriminar entre las clases, tiene un buen rendimiento general. Por otro lado, un AUC bajo sugiere que el modelo no es mejor que una clasificación aleatoria, lo que indica un bajo rendimiento"
      ],
      "metadata": {
        "id": "UL_GLzgggQ0-"
      },
      "id": "UL_GLzgggQ0-"
    },
    {
      "cell_type": "code",
      "execution_count": 4,
      "id": "code-roc",
      "metadata": {
        "id": "code-roc"
      },
      "outputs": [],
      "source": []
    },
    {
      "cell_type": "markdown",
      "id": "step-12",
      "metadata": {
        "id": "step-12"
      },
      "source": [
        "## 12. Visualización e Interpretación del Árbol de Decisión\n",
        "\n",
        "Exporta y visualiza el árbol de decisión utilizando GraphViz y pydotplus. Analiza la estructura, las reglas y la importancia de cada nodo.\n",
        "\n",
        "**Preguntas:**\n",
        "- ¿Cuál es la regla de decisión en el primer nodo?\n",
        "- ¿Cómo se interpretan las ramas y las hojas en relación a las variables `Age` y `EstimatedSalary`?\n",
        "- ¿Qué partes del árbol podrían estar contribuyendo al sobreajuste?"
      ]
    },
    {
      "cell_type": "markdown",
      "source": [
        "La regla de decisión en el primer nodo determina cómo se divide el conjunto de datos, por ejemplo, \"Age <= 35\" o \"EstimatedSalary > 50,000\", basándose en la característica más relevante para clasificar."
      ],
      "metadata": {
        "id": "kv6VRrscgbb-"
      },
      "id": "kv6VRrscgbb-"
    },
    {
      "cell_type": "markdown",
      "source": [
        "Las ramas representan comparaciones entre valores de Age o EstimatedSalary, mientras que las hojas muestran el resultado final de la clasificación si se realizó la compra o no en un caso"
      ],
      "metadata": {
        "id": "pS13UEY_hkT1"
      },
      "id": "pS13UEY_hkT1"
    },
    {
      "cell_type": "markdown",
      "source": [
        "La profundidad excesiva y los nodos terminales pequeños pueden generar un modelo que se ajusta demasiado a los datos de entrenamiento, perdiendo capacidad de generalización."
      ],
      "metadata": {
        "id": "We5Sr4y1huTm"
      },
      "id": "We5Sr4y1huTm"
    },
    {
      "cell_type": "markdown",
      "id": "step-13",
      "metadata": {
        "id": "step-13"
      },
      "source": [
        "## 13. Análisis Crítico del Modelo Inicial\n",
        "\n",
        "Revisa los resultados obtenidos en el modelo sin restricciones y discute:\n",
        "- ¿Existen indicios de sobreajuste? ¿Cómo se comparan las métricas entre entrenamiento y prueba?\n",
        "- ¿Qué mejoras se podrían implementar para optimizar la generalización del modelo?"
      ]
    },
    {
      "cell_type": "markdown",
      "source": [
        " Si el modelo muestra un alto rendimiento en el conjunto de entrenamiento pero un rendimiento malo en la prueba, eso indica que el modelo está sobreajustado viendo la exactitud o el F1-score, son mucho más altas en el conjunto de entrenamiento que en el conjunto de prueba.\n",
        " Se pueden usar validación cruzada, limitar la profundidad del árbol y aplicar regularización para evitar que el modelo se ajuste demasiado a los datos de entrenamiento y mejorar su capacidad de generalización\n",
        "\n"
      ],
      "metadata": {
        "id": "G036W1ZFh8bO"
      },
      "id": "G036W1ZFh8bO"
    },
    {
      "cell_type": "markdown",
      "id": "step-14",
      "metadata": {
        "id": "step-14"
      },
      "source": [
        "## 14. Ajuste del Modelo: Control de la Profundidad\n",
        "\n",
        "Entrena un segundo modelo de Árbol de Decisión limitando la profundidad (por ejemplo, `max_depth=5`) y evalúa su desempeño.\n",
        "\n",
        "**Pregunta:**\n",
        "- ¿Qué cambios se observan en las métricas al limitar la profundidad del árbol? ¿Cómo afecta esto a la capacidad del modelo de generalizar?"
      ]
    },
    {
      "cell_type": "markdown",
      "source": [
        " Limitar la profundidad del árbol generalmente lleva a una reducción en el rendimiento en el conjunto de entrenamiento, ya que el modelo se vuelve menos complejo y no puede capturar todos los detalles del dataset pero esto mejora el rendimiento en el conjunto de prueba, ya que se reduce el riesgo de sobreajuste"
      ],
      "metadata": {
        "id": "PgfJfG_Hjuv9"
      },
      "id": "PgfJfG_Hjuv9"
    },
    {
      "cell_type": "code",
      "execution_count": 4,
      "id": "code-ajuste-modelo",
      "metadata": {
        "id": "code-ajuste-modelo"
      },
      "outputs": [],
      "source": []
    },
    {
      "cell_type": "markdown",
      "id": "step-15",
      "metadata": {
        "id": "step-15"
      },
      "source": [
        "## 15. Discusión Final y Comparación de Modelos\n",
        "\n",
        "Analiza y compara los resultados obtenidos del modelo inicial y el modelo ajustado. Reflexiona sobre los siguientes aspectos:\n",
        "- ¿Cuál de los dos modelos ofrece un mejor balance entre complejidad e interpretabilidad?\n",
        "- ¿Qué indicios sugieren un mejor comportamiento frente al sobreajuste?\n",
        "- ¿Qué otros modelos (por ejemplo, Regresión Logística) podrían utilizarse como referencia para evaluar el desempeño?\n",
        "\n",
        "Utiliza estos puntos para guiar una discusión profesional y técnica entre los participantes."
      ]
    },
    {
      "cell_type": "markdown",
      "source": [
        "El modelo ajustado con profundidad limitada tiene un mejor balance, ya que es más simple y fácil de interpretar, evitando la complejidad excesiva del modelo sin restricciones.\n",
        "El modelo ajustado muestra un rendimiento más equilibrado entre los conjuntos de entrenamiento y prueba, lo que indica que generaliza mejor y está menos afectado por el sobreajuste.\n",
        "Modelos como regresión logística y SVM podrían utilizarse como referencia para evaluar el desempeño, ya que son más simples y menos propensos al sobreajuste en comparación con los árboles de decisión complejos."
      ],
      "metadata": {
        "id": "UK_z5D2ynJ7V"
      },
      "id": "UK_z5D2ynJ7V"
    }
  ],
  "metadata": {
    "kernelspec": {
      "display_name": "Python 3",
      "language": "python",
      "name": "python3"
    },
    "language_info": {
      "codemirror_mode": {
        "name": "ipython",
        "version": 3
      },
      "file_extension": ".py",
      "mimetype": "text/x-python",
      "name": "python",
      "nbconvert_exporter": "python",
      "pygments_lexer": "ipython3",
      "version": "3.12.4"
    },
    "colab": {
      "provenance": []
    }
  },
  "nbformat": 4,
  "nbformat_minor": 5
}